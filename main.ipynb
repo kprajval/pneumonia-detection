{
 "cells": [
  {
   "cell_type": "code",
   "execution_count": 1,
   "id": "abb1d0c1",
   "metadata": {},
   "outputs": [],
   "source": [
    "trainFolderPath = \"C:/Users/kpraj/Desktop/Multi-label Image Classification on Medical Scans/dataset/chest_xray/SPLIT/train\"\n",
    "testFolderPath = \"C:/Users/kpraj/Desktop/Multi-label Image Classification on Medical Scans/dataset/chest_xray/SPLIT/test\"\n",
    "validationFolderPath = \"C:/Users/kpraj/Desktop/Multi-label Image Classification on Medical Scans/dataset/chest_xray/SPLIT/val\""
   ]
  },
  {
   "cell_type": "code",
   "execution_count": 3,
   "id": "af3a14e7",
   "metadata": {},
   "outputs": [],
   "source": [
    "import torch\n",
    "import torchvision\n",
    "import torchvision.transforms as transforms"
   ]
  },
  {
   "cell_type": "markdown",
   "id": "a5b33f04",
   "metadata": {},
   "source": [
    "<h2>Pre Processing Block</h2>\n",
    "\n",
    "Objective:<br><ul>\n",
    "<li>Resize all images to 32x32 pixels</li>\n",
    "<li>Normalize image pixel values (e.g., scale between 0 and 1 or standardize)</li>\n",
    "<li>Return image data as tensors</li>\n",
    "<li>Return corresponding image classes (labels)</li>"
   ]
  },
  {
   "cell_type": "code",
   "execution_count": 13,
   "id": "66bade59",
   "metadata": {},
   "outputs": [],
   "source": [
    "from torchvision import datasets, transforms\n",
    "from torch.utils.data import DataLoader\n",
    "\n",
    "def preProcessingImage(path):\n",
    "    transform = transforms.Compose([\n",
    "        transforms.Resize((32, 32)),\n",
    "        transforms.ToTensor(),\n",
    "        transforms.Normalize((0.5, 0.5, 0.5),\n",
    "                             (0.5, 0.5, 0.5))\n",
    "    ])\n",
    "\n",
    "    dataset = datasets.ImageFolder(root=path, transform=transform)\n",
    "    dataloader = DataLoader(dataset, batch_size=4, shuffle=True)\n",
    "\n",
    "    return dataloader, dataset.classes"
   ]
  },
  {
   "cell_type": "markdown",
   "id": "0825743f",
   "metadata": {},
   "source": [
    "<h2>Model Block</h2>\n",
    "\n",
    "<ul>\n",
    "  <li>We are using a Convolutional Neural Network (CNN) for this task. The model accepts 32x32 images, as processed by the pre-processing block.</li>\n",
    "  <li>The network has 2 convolutional layers with a kernel size of 5x5.</li>\n",
    "  <li>Max pooling is performed with a 2x2 kernel.</li>\n",
    "  <li>The architecture transitions from convolutional layers to fully connected layers for classification.</li>\n",
    "</ul>\n"
   ]
  },
  {
   "cell_type": "code",
   "execution_count": 14,
   "id": "9514baa8",
   "metadata": {},
   "outputs": [],
   "source": [
    "import torch\n",
    "import torch.nn as nn\n",
    "import torch.nn.functional as F\n",
    "\n",
    "class Net(nn.Module):\n",
    "    def __init__(self):\n",
    "        super().__init__()\n",
    "        self.conv1 = nn.Conv2d(3, 6, 5)\n",
    "        self.pool = nn.MaxPool2d(2, 2)\n",
    "        self.conv2 = nn.Conv2d(6, 16, 5)\n",
    "\n",
    "        self._to_linear = None\n",
    "        self._get_conv_output()\n",
    "\n",
    "        self.fc1 = nn.Linear(self._to_linear, 120)\n",
    "        self.fc2 = nn.Linear(120, 84)\n",
    "        self.fc3 = nn.Linear(84, 2)\n",
    "\n",
    "    def _get_conv_output(self):\n",
    "        x = torch.randn(1, 3, 32, 32)\n",
    "        x = self.pool(F.relu(self.conv1(x)))\n",
    "        x = self.pool(F.relu(self.conv2(x)))\n",
    "        self._to_linear = x.numel()\n",
    "\n",
    "    def forward(self, x):\n",
    "        x = self.pool(F.relu(self.conv1(x)))\n",
    "        x = self.pool(F.relu(self.conv2(x)))\n",
    "        x = x.view(x.size(0), -1)\n",
    "        x = F.relu(self.fc1(x))\n",
    "        x = F.relu(self.fc2(x))\n",
    "        x = self.fc3(x)\n",
    "        return x\n",
    "\n",
    "net = Net()"
   ]
  },
  {
   "cell_type": "markdown",
   "id": "9da27100",
   "metadata": {},
   "source": [
    "<p>We use the <code>CrossEntropyLoss</code> as the loss function for classification tasks.</p>\n",
    "<p>The optimizer chosen is Stochastic Gradient Descent (SGD) with a learning rate of 0.001 and momentum of 0.9, applied to the network's parameters.</p>\n"
   ]
  },
  {
   "cell_type": "code",
   "execution_count": 15,
   "id": "87320e78",
   "metadata": {},
   "outputs": [],
   "source": [
    "import torch.optim as optim\n",
    "\n",
    "criterion = nn.CrossEntropyLoss()\n",
    "optimizer = optim.SGD(net.parameters(), lr=0.001, momentum=0.9)"
   ]
  },
  {
   "cell_type": "markdown",
   "id": "fe2d95ef",
   "metadata": {},
   "source": [
    "<h2>Training</h2>"
   ]
  },
  {
   "cell_type": "code",
   "execution_count": 16,
   "id": "523dd41d",
   "metadata": {},
   "outputs": [
    {
     "name": "stdout",
     "output_type": "stream",
     "text": [
      "Training Classes: ['NORMAL', 'PNEUMONIA']\n",
      "Testing Classes: ['NORMAL', 'PNEUMONIA']\n",
      "Validation Classes: ['NORMAL', 'PNEUMONIA']\n",
      "[1,  2000] loss: 0.577\n",
      "[1,  4000] loss: 0.491\n",
      "[2,  2000] loss: 0.471\n",
      "[2,  4000] loss: 0.448\n",
      "Finished Training\n"
     ]
    }
   ],
   "source": [
    "trainloader, trainClasses = preProcessingImage(trainFolderPath)\n",
    "testloader, testClasses = preProcessingImage(testFolderPath)\n",
    "validationloader, valClasses = preProcessingImage(validationFolderPath)\n",
    "\n",
    "print(\"Training Classes:\" ,trainClasses)\n",
    "print(\"Testing Classes:\" ,testClasses)\n",
    "print(\"Validation Classes:\" ,valClasses)\n",
    "\n",
    "\n",
    "for epoch in range(2):\n",
    "    running_loss = 0.0\n",
    "    for i, data in enumerate(trainloader, 0):\n",
    "        inputs, labels = data\n",
    "\n",
    "        optimizer.zero_grad()\n",
    "\n",
    "        outputs = net(inputs)\n",
    "        loss = criterion(outputs, labels)\n",
    "        loss.backward()\n",
    "        optimizer.step()\n",
    "\n",
    "        running_loss += loss.item()\n",
    "        if i % 2000 == 1999:\n",
    "            print(f'[{epoch + 1}, {i + 1:5d}] loss: {running_loss / 2000:.3f}')\n",
    "            running_loss = 0.0\n",
    "\n",
    "print('Finished Training')"
   ]
  },
  {
   "cell_type": "code",
   "execution_count": 17,
   "id": "968a163a",
   "metadata": {},
   "outputs": [
    {
     "name": "stdout",
     "output_type": "stream",
     "text": [
      "Model saved as model.pth\n"
     ]
    }
   ],
   "source": [
    "torch.save(net.state_dict(), 'model.pth')\n",
    "print(\"Model saved as model.pth\")"
   ]
  },
  {
   "cell_type": "markdown",
   "id": "85ec59d5",
   "metadata": {},
   "source": [
    "<h2>Testing</h2>"
   ]
  },
  {
   "cell_type": "code",
   "execution_count": 18,
   "id": "58eb2834",
   "metadata": {},
   "outputs": [
    {
     "name": "stdout",
     "output_type": "stream",
     "text": [
      "Accuracy on test set: 78.91%\n"
     ]
    }
   ],
   "source": [
    "net = Net()\n",
    "net.load_state_dict(torch.load('model.pth'))\n",
    "net.eval()\n",
    "\n",
    "correct = 0\n",
    "total = 0\n",
    "\n",
    "with torch.no_grad():\n",
    "    for inputs, labels in testloader:\n",
    "        outputs = net(inputs)\n",
    "        _, predicted = torch.max(outputs.data, 1)\n",
    "        total += labels.size(0)\n",
    "        correct += (predicted == labels).sum().item()\n",
    "\n",
    "print(f'Accuracy on test set: {100 * correct / total:.2f}%')\n"
   ]
  },
  {
   "cell_type": "markdown",
   "id": "4d6916e2",
   "metadata": {},
   "source": [
    "<h2>Validation</h2>"
   ]
  },
  {
   "cell_type": "code",
   "execution_count": 19,
   "id": "4fb8244c",
   "metadata": {},
   "outputs": [
    {
     "name": "stdout",
     "output_type": "stream",
     "text": [
      "Validation Accuracy: 78.36%\n"
     ]
    }
   ],
   "source": [
    "correct = 0\n",
    "total = 0\n",
    "\n",
    "with torch.no_grad():\n",
    "    for inputs, labels in validationloader:\n",
    "        outputs = net(inputs)\n",
    "        _, predicted = torch.max(outputs.data, 1)\n",
    "        total += labels.size(0)\n",
    "        correct += (predicted == labels).sum().item()\n",
    "\n",
    "print(f'Validation Accuracy: {100 * correct / total:.2f}%')\n"
   ]
  },
  {
   "cell_type": "markdown",
   "id": "ea42091b",
   "metadata": {},
   "source": [
    "<h2>Final conclusion</h2>\n",
    "\n",
    "Testing Accuracy: 78.91%<br>\n",
    "Validation Accuracy: 78.36%\n",
    "\n",
    "This is basic image classification for identifying the patient has pneumonia or he is normal based o his chest scans. Next level is with identifying the patient age, patient sex and patent condition based on image processing. "
   ]
  }
 ],
 "metadata": {
  "kernelspec": {
   "display_name": "Python 3",
   "language": "python",
   "name": "python3"
  },
  "language_info": {
   "codemirror_mode": {
    "name": "ipython",
    "version": 3
   },
   "file_extension": ".py",
   "mimetype": "text/x-python",
   "name": "python",
   "nbconvert_exporter": "python",
   "pygments_lexer": "ipython3",
   "version": "3.13.3"
  }
 },
 "nbformat": 4,
 "nbformat_minor": 5
}
